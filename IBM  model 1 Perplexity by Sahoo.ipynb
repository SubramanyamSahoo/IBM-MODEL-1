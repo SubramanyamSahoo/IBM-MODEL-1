{
 "cells": [
  {
   "cell_type": "markdown",
   "metadata": {
    "_cell_guid": "49c16e49-beea-6181-b456-c93e4a95cf24",
    "_uuid": "6116c83c7788af0e33dc6c704ece9b96d8d70845"
   },
   "source": [
    "#  IBM model 1\n",
    "\n",
    "A Python implementation of IBM model 1. See [Statistical Machine Translation] by Philipp Koehn for details.\n",
    "\n",
    "Note: My output diverges from the example in the book starting with the 2nd iteration."
   ]
  },
  {
   "cell_type": "code",
   "execution_count": 1,
   "metadata": {
    "_cell_guid": "55ff3ac8-e1cc-70b9-7dec-58d0078baa43",
    "_uuid": "6a68c3f95e4fe5a443610d5825440d120ac1607d"
   },
   "outputs": [],
   "source": [
    "import math\n",
    "import numpy\n",
    "import matplotlib.pyplot as plt\n",
    "%matplotlib inline"
   ]
  },
  {
   "cell_type": "code",
   "execution_count": 2,
   "metadata": {
    "_cell_guid": "37beeac7-0cda-5205-ac0a-ec1ad945472e",
    "_uuid": "4a0e4f2e3864eab69fcb69f8b4897e3a7ba6ded6"
   },
   "outputs": [],
   "source": [
    "# Input: english sentence e, foreign sentence f, hash of translation probabilities t, epsilon \n",
    "# Output: probability of e given f\n",
    "\n",
    "def probability_e_f(e, f, t, epsilon=1):\n",
    "    l_e = len(e)\n",
    "    l_f = len(f)\n",
    "    p_e_f = 1\n",
    "    \n",
    "    for ew in e: # iterate over english words ew in english sentence e\n",
    "        inner_sum = 0\n",
    "        for fw in f: # iterate over foreign words fw in foreign sentence f\n",
    "            inner_sum += t[(ew, fw)]\n",
    "        p_e_f = inner_sum * p_e_f\n",
    "    \n",
    "    p_e_f = p_e_f * epsilon / (l_f**l_e)\n",
    "    \n",
    "    return p_e_f            "
   ]
  },
  {
   "cell_type": "code",
   "execution_count": 3,
   "metadata": {
    "_cell_guid": "ddfd87eb-4df0-45df-4e41-759beaa33627",
    "_uuid": "66db5e3bbbd263d3d26b6db9ded4a6601bd50aa5"
   },
   "outputs": [],
   "source": [
    "# Input: Collection of sentence pairs sentence_pairs, hash of translation probabilities t, epsilon\n",
    "# Output: Perplexity of model\n",
    "\n",
    "def perplexity(sentence_pairs, t, epsilon=1, debug_output=False):\n",
    "    pp = 0\n",
    "    \n",
    "    for sp in sentence_pairs:\n",
    "        prob = probability_e_f(sp[1], sp[0], t)\n",
    "        if debug_output:\n",
    "            print('english sentence:', sp[1], 'foreign sentence:', sp[0])\n",
    "            print(prob)\n",
    "            print()\n",
    "        pp += math.log(prob, 2) # log base 2\n",
    "        \n",
    "    pp = 2.0**(-pp)\n",
    "    return pp"
   ]
  },
  {
   "cell_type": "code",
   "execution_count": 5,
   "metadata": {
    "_cell_guid": "27c9ed46-444a-15ff-b00c-04cc6942226a",
    "_uuid": "e7308f46a05117bdb3bbac335ec5d345b800f0f6"
   },
   "outputs": [
    {
     "name": "stdout",
     "output_type": "stream",
     "text": [
      "No. of sentences in translation memory:  3\n",
      "Content:  [[['das', 'Haus'], ['the', 'house']], [['das', 'Buch'], ['the', 'book']], [['ein', 'Buch'], ['a', 'book']]]\n"
     ]
    }
   ],
   "source": [
    "# Get sentence pairs for toy experiment\n",
    "sentence_pairs = [ \n",
    "    [ ['das', 'Haus'], ['the', 'house'] ], \n",
    "    [ ['das', 'Buch'], ['the', 'book'] ], \n",
    "    [ ['ein', 'Buch'], ['a', 'book'] ]\n",
    "]\n",
    "\n",
    "\n",
    "\n",
    "\n",
    "print('No. of sentences in translation memory: ', len(sentence_pairs))\n",
    "print('Content: ', sentence_pairs)"
   ]
  },
  {
   "cell_type": "code",
   "execution_count": 6,
   "metadata": {
    "_cell_guid": "0e89196d-1873-2e75-050d-5ea5dbaf5367",
    "_uuid": "df586036e88cf17a747d7d4bac61f7da3b93863d"
   },
   "outputs": [
    {
     "name": "stdout",
     "output_type": "stream",
     "text": [
      "English vocab:  ['a', 'book', 'house', 'the']\n",
      "Foreign vocab:  ['Buch', 'das', 'ein', 'Haus']\n",
      "english_vocab_size:  4\n",
      "foreign_vocab_size:  4\n"
     ]
    }
   ],
   "source": [
    "# Extract foreign and english vocabularies\n",
    "foreign_words = []\n",
    "english_words = []\n",
    "\n",
    "for sp in sentence_pairs:\n",
    "    for ew in sp[1]: \n",
    "        english_words.append(ew)\n",
    "    for fw in sp[0]: \n",
    "        foreign_words.append(fw)\n",
    "        \n",
    "english_words = sorted(list(set(english_words)), key=lambda s: s.lower()) \n",
    "foreign_words = sorted(list(set(foreign_words)), key=lambda s: s.lower())\n",
    "print('English vocab: ', english_words)\n",
    "print('Foreign vocab: ', foreign_words)\n",
    "\n",
    "english_vocab_size = len(english_words)\n",
    "foreign_vocab_size = len(foreign_words)\n",
    "print('english_vocab_size: ', english_vocab_size)\n",
    "print('foreign_vocab_size: ', foreign_vocab_size)"
   ]
  },
  {
   "cell_type": "code",
   "execution_count": 7,
   "metadata": {
    "_cell_guid": "184055fb-1d01-b411-3790-7ea229f8a594",
    "_uuid": "e5f529a587968169d5c0e645cf3400f3dd21dc17"
   },
   "outputs": [],
   "source": [
    "# Routine to uniformly initialize word translation probabilities in t hash\n",
    "\n",
    "def init_prob(t, init_val, english_words, foreign_words):\n",
    "    for fw in foreign_words:\n",
    "        for ew in english_words:\n",
    "            tup = (ew, fw) # tuple required because dict key cannot be list\n",
    "            t[tup] = init_val"
   ]
  },
  {
   "cell_type": "code",
   "execution_count": 8,
   "metadata": {
    "_cell_guid": "d253ccb5-c5e8-9005-5131-ee90bc745837",
    "_uuid": "f7a913c1f5ad7a8e8b3723d844b4457357b17aa0"
   },
   "outputs": [
    {
     "name": "stdout",
     "output_type": "stream",
     "text": [
      "Hash initialized\n",
      "No. of foreign/english pairs:  16\n",
      "Content:  {('a', 'Buch'): 0.25, ('book', 'Buch'): 0.25, ('house', 'Buch'): 0.25, ('the', 'Buch'): 0.25, ('a', 'das'): 0.25, ('book', 'das'): 0.25, ('house', 'das'): 0.25, ('the', 'das'): 0.25, ('a', 'ein'): 0.25, ('book', 'ein'): 0.25, ('house', 'ein'): 0.25, ('the', 'ein'): 0.25, ('a', 'Haus'): 0.25, ('book', 'Haus'): 0.25, ('house', 'Haus'): 0.25, ('the', 'Haus'): 0.25}\n",
      "**************\n",
      "\n",
      "english sentence: ['the', 'house'] foreign sentence: ['das', 'Haus']\n",
      "0.0625\n",
      "\n",
      "english sentence: ['the', 'book'] foreign sentence: ['das', 'Buch']\n",
      "0.0625\n",
      "\n",
      "english sentence: ['a', 'book'] foreign sentence: ['ein', 'Buch']\n",
      "0.0625\n",
      "\n",
      "4096.0\n",
      "**************\n",
      "--> *** t[('the','das')] 0.5\n",
      "--> *** t[('book','das')] 0.25\n",
      "--> t[('house','das')] 0.25\n",
      "--> *** t[('the','Buch')] 0.25\n",
      "--> *** t[('book','Buch')] 0.5\n",
      "--> t[('a','Buch')] 0.25\n",
      "--> t[('book','ein')] 0.5\n",
      "--> t[('a','ein')] 0.5\n",
      "--> t[('the','Haus')] 0.5\n",
      "--> t[('house','Haus')] 0.5\n",
      "english sentence: ['the', 'house'] foreign sentence: ['das', 'Haus']\n",
      "0.1875\n",
      "\n",
      "english sentence: ['the', 'book'] foreign sentence: ['das', 'Buch']\n",
      "0.140625\n",
      "\n",
      "english sentence: ['a', 'book'] foreign sentence: ['ein', 'Buch']\n",
      "0.1875\n",
      "\n",
      "202.27160493827165\n",
      "**************\n",
      "--> *** t[('the','das')] 0.6363636363636364\n",
      "--> *** t[('book','das')] 0.18181818181818182\n",
      "--> t[('house','das')] 0.18181818181818182\n",
      "--> *** t[('the','Buch')] 0.18181818181818182\n",
      "--> *** t[('book','Buch')] 0.6363636363636364\n",
      "--> t[('a','Buch')] 0.18181818181818182\n",
      "--> t[('book','ein')] 0.4285714285714286\n",
      "--> t[('a','ein')] 0.5714285714285715\n",
      "--> t[('the','Haus')] 0.4285714285714286\n",
      "--> t[('house','Haus')] 0.5714285714285715\n",
      "english sentence: ['the', 'house'] foreign sentence: ['das', 'Haus']\n",
      "0.20053972002023954\n",
      "\n",
      "english sentence: ['the', 'book'] foreign sentence: ['das', 'Buch']\n",
      "0.16735537190082642\n",
      "\n",
      "english sentence: ['a', 'book'] foreign sentence: ['ein', 'Buch']\n",
      "0.20053972002023954\n",
      "\n",
      "148.57971953377827\n",
      "**************\n",
      "--> *** t[('the','das')] 0.7478974515333995\n",
      "--> *** t[('book','das')] 0.1208425438930813\n",
      "--> t[('house','das')] 0.13126000457351933\n",
      "--> *** t[('the','Buch')] 0.1208425438930813\n",
      "--> *** t[('book','Buch')] 0.7478974515333995\n",
      "--> t[('a','Buch')] 0.13126000457351933\n",
      "--> t[('book','ein')] 0.34661354581673304\n",
      "--> t[('a','ein')] 0.6533864541832669\n",
      "--> t[('the','Haus')] 0.34661354581673304\n",
      "--> t[('house','Haus')] 0.6533864541832669\n",
      "english sentence: ['the', 'house'] foreign sentence: ['das', 'Haus']\n",
      "0.21470104453528496\n",
      "\n",
      "english sentence: ['the', 'book'] foreign sentence: ['das', 'Buch']\n",
      "0.18867729491340043\n",
      "\n",
      "english sentence: ['a', 'book'] foreign sentence: ['ein', 'Buch']\n",
      "0.21470104453528496\n",
      "\n",
      "114.97728367667098\n",
      "**************\n",
      "--> *** t[('the','das')] 0.8344395715124338\n",
      "--> *** t[('book','das')] 0.07516523179034365\n",
      "--> t[('house','das')] 0.09039519669722251\n",
      "--> *** t[('the','Buch')] 0.07516523179034365\n",
      "--> *** t[('book','Buch')] 0.8344395715124339\n",
      "--> t[('a','Buch')] 0.09039519669722253\n",
      "--> t[('book','ein')] 0.2755211789521138\n",
      "--> t[('a','ein')] 0.7244788210478862\n",
      "--> t[('the','Haus')] 0.2755211789521138\n",
      "--> t[('house','Haus')] 0.7244788210478862\n",
      "english sentence: ['the', 'house'] foreign sentence: ['das', 'Haus']\n",
      "0.22611954406760545\n",
      "\n",
      "english sentence: ['the', 'book'] foreign sentence: ['das', 'Buch']\n",
      "0.2068452245478711\n",
      "\n",
      "english sentence: ['a', 'book'] foreign sentence: ['ein', 'Buch']\n",
      "0.2261195440676055\n",
      "\n",
      "94.55365015392323\n",
      "**************\n",
      "--> *** t[('the','das')] 0.8960831177730378\n",
      "--> *** t[('book','das')] 0.04436291470681886\n",
      "--> t[('house','das')] 0.05955396752014332\n",
      "--> *** t[('the','Buch')] 0.044362914706818864\n",
      "--> *** t[('book','Buch')] 0.8960831177730377\n",
      "--> t[('a','Buch')] 0.059553967520143324\n",
      "--> t[('book','ein')] 0.21826012818351037\n",
      "--> t[('a','ein')] 0.7817398718164896\n",
      "--> t[('the','Haus')] 0.21826012818351043\n",
      "--> t[('house','Haus')] 0.7817398718164896\n"
     ]
    }
   ],
   "source": [
    "# Main routine\n",
    "num_iterations = 5\n",
    "perplex = []\n",
    "debug_output = True\n",
    "s_total = {}\n",
    "\n",
    "# Initialize probabilities uniformly\n",
    "t = {}\n",
    "init_val = 1.0 / foreign_vocab_size\n",
    "init_prob(t, init_val, english_words, foreign_words)\n",
    "if debug_output:\n",
    "    print('Hash initialized')\n",
    "    print('No. of foreign/english pairs: ', len(t))\n",
    "    print('Content: ', t)\n",
    "    print('**************')\n",
    "    print()\n",
    "\n",
    "# Loop while not converged\n",
    "for iter in range(num_iterations):\n",
    "    \n",
    "    # Calculate perplexity\n",
    "    pp = perplexity(sentence_pairs, t, 1, True)\n",
    "    print(pp)\n",
    "    print('**************')\n",
    "    perplex.append(pp)\n",
    "\n",
    "    # Initialize\n",
    "    count = {}\n",
    "    total = {}\n",
    "\n",
    "    for fw in foreign_words:\n",
    "        total[fw] = 0.0\n",
    "        for ew in english_words:\n",
    "            count[(ew, fw)] = 0.0\n",
    "\n",
    "    for sp in sentence_pairs:\n",
    "\n",
    "        # Compute normalization\n",
    "        for ew in sp[1]:\n",
    "            s_total[ew] = 0.0\n",
    "            for fw in sp[0]:\n",
    "                s_total[ew] += t[(ew, fw)]\n",
    "\n",
    "        # Collect counts\n",
    "        for ew in sp[1]:\n",
    "            for fw in sp[0]:\n",
    "                count[(ew, fw)] += t[(ew, fw)] / s_total[ew]\n",
    "                total[fw] += t[(ew, fw)] / s_total[ew]\n",
    "\n",
    "    # Estimate probabilities\n",
    "    for fw in foreign_words:\n",
    "        for ew in english_words:\n",
    "            t[(ew, fw)] = count[(ew, fw)] / total[fw]\n",
    "\n",
    "    if debug_output:\n",
    "        print(\"--> *** t[('the','das')]\", t[('the','das')])\n",
    "        print(\"--> *** t[('book','das')]\", t[('book','das')])\n",
    "    \n",
    "        print(\"--> t[('house','das')]\", t[('house','das')])\n",
    "        print(\"--> *** t[('the','Buch')]\", t[('the','Buch')])\n",
    "        print(\"--> *** t[('book','Buch')]\", t[('book','Buch')])\n",
    "        print(\"--> t[('a','Buch')]\", t[('a','Buch')])\n",
    "        print(\"--> t[('book','ein')]\", t[('book','ein')])\n",
    "        print(\"--> t[('a','ein')]\", t[('a','ein')])\n",
    "\n",
    "        print(\"--> t[('the','Haus')]\", t[('the','Haus')])\n",
    "        print(\"--> t[('house','Haus')]\", t[('house','Haus')])"
   ]
  },
  {
   "cell_type": "markdown",
   "metadata": {},
   "source": [
    "# Plot of perplexity"
   ]
  },
  {
   "cell_type": "code",
   "execution_count": 9,
   "metadata": {
    "_cell_guid": "527cb2cb-eece-5abf-84ec-8e9c7c79c7c7",
    "_uuid": "35ff6d74db28e755f7dc9c5e74c796be572ad7c6"
   },
   "outputs": [
    {
     "data": {
      "image/png": "[encoded data removed]",
      "text/plain": [
       "<Figure size 700x400 with 1 Axes>"
      ]
     },
     "metadata": {},
     "output_type": "display_data"
    }
   ],
   "source": [
    "\n",
    "plt.figure(figsize=(7,4))\n",
    "plt.plot(range(1, num_iterations+1), perplex, linewidth=4)\n",
    "plt.xlabel('# Iterations')\n",
    "plt.ylabel('Perplexity')\n",
    "plt.title('Perplexity vs. iterations')\n",
    "plt.rcParams.update({'font.size': 12})"
   ]
  },
  {
   "cell_type": "markdown",
   "metadata": {},
   "source": [
    "## Plot of log base 10 of perplexity"
   ]
  },
  {
   "cell_type": "code",
   "execution_count": 10,
   "metadata": {
    "_cell_guid": "4581c0c1-eeb9-65f8-919c-20b57961874e",
    "_uuid": "bb6bcb9adad8f142b035d41cd9013c6732f707d5"
   },
   "outputs": [
    {
     "data": {
      "image/png": "[encoded data removed]",
      "text/plain": [
       "<Figure size 700x400 with 1 Axes>"
      ]
     },
     "metadata": {},
     "output_type": "display_data"
    }
   ],
   "source": [
    "\n",
    "plt.figure(figsize=(7,4))\n",
    "plt.plot(range(1, num_iterations+1), numpy.log10(perplex), linewidth=4)\n",
    "plt.xlabel('# Iterations')\n",
    "plt.ylabel('Log perplexity')\n",
    "plt.title('Log perplexity vs. iterations')\n",
    "plt.rcParams.update({'font.size': 12})"
   ]
  },
  {
   "cell_type": "code",
   "execution_count": null,
   "metadata": {
    "_cell_guid": "b86e491e-488f-1c0c-c4db-cc8e1474fdd9",
    "_uuid": "14e673dc6a388c6e60944ddc680bc161eb632e31"
   },
   "outputs": [],
   "source": []
  },
  {
   "cell_type": "code",
   "execution_count": null,
   "metadata": {},
   "outputs": [],
   "source": []
  },
  {
   "cell_type": "code",
   "execution_count": null,
   "metadata": {},
   "outputs": [],
   "source": []
  }
 ],
 "metadata": {
  "_change_revision": 0,
  "_is_fork": false,
  "kernelspec": {
   "display_name": "Python 3 (ipykernel)",
   "language": "python",
   "name": "python3"
  },
  "language_info": {
   "codemirror_mode": {
    "name": "ipython",
    "version": 3
   },
   "file_extension": ".py",
   "mimetype": "text/x-python",
   "name": "python",
   "nbconvert_exporter": "python",
   "pygments_lexer": "ipython3",
   "version": "3.9.12"
  }
 },
 "nbformat": 4,
 "nbformat_minor": 1
}
